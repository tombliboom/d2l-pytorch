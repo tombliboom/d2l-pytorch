{
 "cells": [
  {
   "cell_type": "markdown",
   "id": "f2377b24-15df-49ad-b40d-f649c5df807c",
   "metadata": {},
   "source": [
    "# 文本预处理\n",
    "⽂本的常⻅预处理步骤，这些步骤通常包括：\n",
    "+ 1. 将⽂本作为字符串加载到内存中。\n",
    "+ 2. 将字符串拆分为词元（如单词和字符）。\n",
    "+ 3. 建⽴⼀个词表，将拆分的词元映射到数字索引。\n",
    "+ 4. 将⽂本转换为数字索引序列，⽅便模型操作。\n"
   ]
  },
  {
   "cell_type": "code",
   "execution_count": 1,
   "id": "114f3d96-0a81-4044-b93b-b06afc3a4853",
   "metadata": {},
   "outputs": [],
   "source": [
    "import collections\n",
    "import re\n",
    "from d2l import torch as d2l"
   ]
  },
  {
   "cell_type": "markdown",
   "id": "d6f4c012-5ace-4017-8963-a918c855dbcd",
   "metadata": {},
   "source": [
    "## 1. 读取数据集\n",
    "⾸先，我们从H.G.Well的时光机器99中加载⽂本。这是⼀个相当⼩的语料库，只有30000多个单词，但⾜够我们⼩试⽜⼑，⽽现实中的⽂档集合可能会包含数⼗亿个单词。下⾯的函数将数据集读取到由多条⽂本⾏组成的列表中，其中每条⽂本⾏都是⼀个字符串。为简单起⻅，我们在这⾥忽略了标点符号和字⺟⼤写。\n"
   ]
  },
  {
   "cell_type": "code",
   "execution_count": 2,
   "id": "f51b739c-957b-43c6-b6b3-801acfe6f66f",
   "metadata": {},
   "outputs": [
    {
     "name": "stdout",
     "output_type": "stream",
     "text": [
      "文本总行数: 3221\n",
      "the time machine by h g wells\n",
      "twinkled and his usually pale face was flushed and animated the\n"
     ]
    }
   ],
   "source": [
    "#@save\n",
    "d2l.DATA_HUB['time_machine'] = (d2l.DATA_URL + 'timemachine.txt',\n",
    "                                    '090b5e7e70c295757f55df93cb0a180b9691891a')\n",
    "\n",
    "def read_time_machine(): #@save\n",
    "    with open(d2l.download('time_machine'), 'r') as f:\n",
    "        lines = f.readlines()\n",
    "    return [re.sub('[^A-Za-z]+', ' ', line).strip().lower() for line in lines]\n",
    "\n",
    "lines = read_time_machine()\n",
    "print(f'文本总行数: {len(lines)}')\n",
    "print(lines[0])\n",
    "print(lines[10])"
   ]
  },
  {
   "cell_type": "markdown",
   "id": "11a2b791-4413-4804-88f4-9d4484c2ad34",
   "metadata": {},
   "source": [
    "## 2. 词元化\n",
    "下⾯的tokenize函数将⽂本⾏列表（lines）作为输⼊，列表中的每个元素是⼀个⽂本序列（如⼀条⽂本⾏）。\n",
    "每个⽂本序列⼜被拆分成⼀个词元列表，词元（token）是⽂本的基本单位。最后，返回⼀个由词元列表组成\n",
    "的列表，其中的每个词元都是⼀个字符串（string）。"
   ]
  },
  {
   "cell_type": "code",
   "execution_count": 3,
   "id": "f4e61742-5a56-4b9e-9ede-fa4af7e40bb6",
   "metadata": {},
   "outputs": [
    {
     "name": "stdout",
     "output_type": "stream",
     "text": [
      "['the', 'time', 'machine', 'by', 'h', 'g', 'wells']\n",
      "[]\n",
      "[]\n",
      "[]\n",
      "[]\n",
      "['i']\n",
      "[]\n",
      "[]\n",
      "['the', 'time', 'traveller', 'for', 'so', 'it', 'will', 'be', 'convenient', 'to', 'speak', 'of', 'him']\n",
      "['was', 'expounding', 'a', 'recondite', 'matter', 'to', 'us', 'his', 'grey', 'eyes', 'shone', 'and']\n",
      "['twinkled', 'and', 'his', 'usually', 'pale', 'face', 'was', 'flushed', 'and', 'animated', 'the']\n"
     ]
    }
   ],
   "source": [
    "def tokenize(lines, token='word'): #@save\n",
    "    # 将文本划分为一个一个独立的词列表\n",
    "    if token == 'word':\n",
    "        return [line.split() for line in lines]\n",
    "    elif token == 'char': \n",
    "        return [list(line) for line in lines]\n",
    "    else:\n",
    "        print('Error: undefined token type: ' + token)\n",
    "\n",
    "tokens = tokenize(lines)\n",
    "for i in range(11):\n",
    "    print(tokens[i])"
   ]
  },
  {
   "cell_type": "markdown",
   "id": "c81b6246-c6ef-46b4-995d-58743183f107",
   "metadata": {},
   "source": [
    "## 3， 词表\n",
    "词元的类型是字符串，⽽模型需要的输⼊是数字，因此这种类型不⽅便模型使⽤。现在，让我们构建⼀个字\n",
    "典，通常也叫做词表（vocabulary），⽤来将字符串类型的词元映射到从0开始的数字索引中。我们先将训练\n",
    "集中的所有⽂档合并在⼀起，对它们的唯⼀词元进⾏统计，得到的统计结果称之为语料（corpus）。然后根\n",
    "据每个唯⼀词元的出现频率，为其分配⼀个数字索引。很少出现的词元通常被移除，这可以降低复杂性。另\n",
    "外，语料库中不存在或已删除的任何词元都将映射到⼀个特定的未知词元“unk”。我们可以选择增加⼀个\n",
    "列表，⽤于保存那些被保留的词元，例如：填充词元（“pad”）；序列开始词元（“bos”）；序列结束词元\n",
    "（“eos”）。\n"
   ]
  },
  {
   "cell_type": "code",
   "execution_count": 4,
   "id": "9be32264-f537-4acf-9cb7-e7d0a66da598",
   "metadata": {},
   "outputs": [],
   "source": [
    "class Vocab: #@save\n",
    "    # 文本词表\n",
    "    def __init__(self, tokens=None, min_freq=0, reserved_tokens=None):\n",
    "        if tokens is None:\n",
    "            tokens = []\n",
    "        if reserved_tokens is None:\n",
    "            reserved_tokens = []\n",
    "        # 按照单词的出现频率排序\n",
    "        counter = count_corpus(tokens)\n",
    "        self._token_freqs = sorted(counter.items(), key=lambda x: x[1],\n",
    "                                  reverse=True)\n",
    "        # 未知词元的索引为0\n",
    "        # 索引对应的词元\n",
    "        self.idx_to_token = ['<unk>'] + reserved_tokens\n",
    "        # 词元对应的索引\n",
    "        self.token_to_idx = {\n",
    "            token: idx\n",
    "            for idx, token in enumerate(self.idx_to_token)\n",
    "        }\n",
    "        for token, freq in self._token_freqs:\n",
    "            if freq < min_freq:\n",
    "                break\n",
    "            if token not in self.token_to_idx:\n",
    "                self.idx_to_token.append(token)\n",
    "                self.token_to_idx[token] = len(self.idx_to_token) - 1\n",
    "      \n",
    "    def __len__(self):\n",
    "        return len(self.idx_to_token)\n",
    "    \n",
    "    def __getitem__(self, tokens):\n",
    "        if not isinstance(tokens, (list, tuple)):\n",
    "            return self.token_to_idx[tokens]\n",
    "        return [self.__getitem__(token) for token in tokens]\n",
    "    \n",
    "    \n",
    "    def to_tokens(self, indices):\n",
    "        if not isinstance(indices, (list, tuple)):\n",
    "            return self.idx_to_token[indices]\n",
    "        return [self.idx_to_token[index] for index in indices]\n",
    "    \n",
    "    @property\n",
    "    def unk(self): # 未知词元的索引为0\n",
    "        return 0\n",
    "    \n",
    "    @property\n",
    "    def token_freqs(self):\n",
    "        return self._token_freqs\n",
    "    \n",
    "    \n",
    "def count_corpus(tokens): #@save\n",
    "    # 统计词元的频率\n",
    "    if len(tokens) == 0 or isinstance(tokens[0], list):\n",
    "        tokens = [token for line in tokens for token in line]\n",
    "    return collections.Counter(tokens)"
   ]
  },
  {
   "cell_type": "code",
   "execution_count": 5,
   "id": "74f5a552-78b6-4911-b44c-960632d01d9b",
   "metadata": {},
   "outputs": [
    {
     "name": "stdout",
     "output_type": "stream",
     "text": [
      "[('<unk>', 0), ('the', 1), ('i', 2), ('and', 3), ('of', 4), ('a', 5), ('to', 6), ('was', 7), ('in', 8), ('that', 9)]\n"
     ]
    }
   ],
   "source": [
    "vocab = Vocab(tokens)\n",
    "print(list(vocab.token_to_idx.items())[:10])"
   ]
  },
  {
   "cell_type": "code",
   "execution_count": 6,
   "id": "4b540a00-473d-49be-9b44-c78fc555b07e",
   "metadata": {},
   "outputs": [
    {
     "name": "stdout",
     "output_type": "stream",
     "text": [
      "文本:  ['the', 'time', 'machine', 'by', 'h', 'g', 'wells']\n",
      "索引:  [1, 19, 50, 40, 2183, 2184, 400]\n",
      "文本:  ['twinkled', 'and', 'his', 'usually', 'pale', 'face', 'was', 'flushed', 'and', 'animated', 'the']\n",
      "索引:  [2186, 3, 25, 1044, 362, 113, 7, 1421, 3, 1045, 1]\n"
     ]
    }
   ],
   "source": [
    "for i in [0, 10]:\n",
    "    print('文本: ', tokens[i])\n",
    "    print('索引: ', vocab[tokens[i]])"
   ]
  },
  {
   "cell_type": "markdown",
   "id": "24460ed5-f6d0-461a-a5e9-af0b8561f53d",
   "metadata": {},
   "source": [
    "## 4. 整合所有功能\n",
    "在使⽤上述函数时，我们将所有功能打包到load_corpus_time_machine函数中，该函数返回corpus（词元索\n",
    "引列表）和vocab（时光机器语料库的词表）。"
   ]
  },
  {
   "cell_type": "code",
   "execution_count": 7,
   "id": "7c7a8127-6064-4ca6-8034-5d247e17051b",
   "metadata": {},
   "outputs": [
    {
     "data": {
      "text/plain": [
       "(32775, 4580)"
      ]
     },
     "execution_count": 7,
     "metadata": {},
     "output_type": "execute_result"
    }
   ],
   "source": [
    "def load_corpus_time_machine(max_tokens=-1): #@save\n",
    "    # 返回数据集词元索引表和词表\n",
    "    lines = read_time_machine()\n",
    "    tokens = tokenize(lines)\n",
    "    vocab = Vocab(tokens)\n",
    "    corpus = [vocab[token] for line in tokens for token in line]\n",
    "    if max_tokens > 0:\n",
    "        corpus = corpus[: max_tokens] # 词元索引限制长度\n",
    "    return corpus, vocab\n",
    "\n",
    "corpus, vocab = load_corpus_time_machine()\n",
    "len(corpus), len(vocab)"
   ]
  },
  {
   "cell_type": "markdown",
   "id": "365f3872-f86c-4eee-8eac-b43247b4309a",
   "metadata": {},
   "source": [
    "## 总结\n",
    "+ ⽂本是序列数据的⼀种最常⻅的形式之⼀。\n",
    "+ 为了对⽂本进⾏预处理，我们通常将⽂本拆分为词元，构建词表将词元字符串映射为数字索引，并将⽂本数据转换为词元索引以供模型操作。"
   ]
  }
 ],
 "metadata": {
  "kernelspec": {
   "display_name": "env-d2l",
   "language": "python",
   "name": "d2l"
  },
  "language_info": {
   "codemirror_mode": {
    "name": "ipython",
    "version": 3
   },
   "file_extension": ".py",
   "mimetype": "text/x-python",
   "name": "python",
   "nbconvert_exporter": "python",
   "pygments_lexer": "ipython3",
   "version": "3.9.16"
  }
 },
 "nbformat": 4,
 "nbformat_minor": 5
}
