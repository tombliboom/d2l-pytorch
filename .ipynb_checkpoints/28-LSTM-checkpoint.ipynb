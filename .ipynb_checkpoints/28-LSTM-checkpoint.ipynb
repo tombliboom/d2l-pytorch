{
 "cells": [
  {
   "cell_type": "markdown",
   "id": "a37fa56e-d552-4d6d-bc20-a7c3fc2c7ea2",
   "metadata": {},
   "source": [
    "# 长短期记忆网络LSTM\n",
    "⻓期以来，隐变量模型存在着⻓期信息保存和短期输⼊缺失的问题。解决这⼀问题的最早⽅法之⼀是⻓短期存储器（long short-term memory，LSTM）"
   ]
  },
  {
   "cell_type": "code",
   "execution_count": null,
   "id": "43ac5788-ac9e-453a-ac48-48e0494b1671",
   "metadata": {},
   "outputs": [],
   "source": []
  }
 ],
 "metadata": {
  "kernelspec": {
   "display_name": "env-d2l",
   "language": "python",
   "name": "d2l"
  },
  "language_info": {
   "codemirror_mode": {
    "name": "ipython",
    "version": 3
   },
   "file_extension": ".py",
   "mimetype": "text/x-python",
   "name": "python",
   "nbconvert_exporter": "python",
   "pygments_lexer": "ipython3",
   "version": "3.9.16"
  }
 },
 "nbformat": 4,
 "nbformat_minor": 5
}
