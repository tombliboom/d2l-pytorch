{
 "cells": [
  {
   "cell_type": "markdown",
   "id": "77ba391f-f1dd-46ea-b999-cf86aa0bde4a",
   "metadata": {},
   "source": [
    "# 单发多框检测-SSD"
   ]
  },
  {
   "cell_type": "markdown",
   "id": "54cfb2b4-1bdc-4a5b-ba18-9c2a131f4c60",
   "metadata": {},
   "source": [
    "## 1. 模型\n",
    "+ 通过深度神经⽹络分层表⽰图像的多尺度⽬标检测的设计。由于接近图顶部的多尺度特征图较⼩，但具有较⼤的感受野，它们适合检测较少但较⼤的物体。简⽽⾔之，通过多尺度特征块，单发多框检测⽣成不同⼤⼩的锚框，并通过预测边界框的类别和偏移量来检测⼤⼩不同的⽬标，因此这是⼀个多尺度⽬标检测模型。\n"
   ]
  },
  {
   "cell_type": "code",
   "execution_count": null,
   "id": "c6f43653-db03-49d5-9c99-e148b5a64b02",
   "metadata": {},
   "outputs": [],
   "source": []
  }
 ],
 "metadata": {
  "kernelspec": {
   "display_name": "env-d2l",
   "language": "python",
   "name": "d2l"
  },
  "language_info": {
   "codemirror_mode": {
    "name": "ipython",
    "version": 3
   },
   "file_extension": ".py",
   "mimetype": "text/x-python",
   "name": "python",
   "nbconvert_exporter": "python",
   "pygments_lexer": "ipython3",
   "version": "3.9.16"
  }
 },
 "nbformat": 4,
 "nbformat_minor": 5
}
