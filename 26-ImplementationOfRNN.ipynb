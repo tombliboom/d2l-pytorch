{
 "cells": [
  {
   "cell_type": "markdown",
   "id": "7202a90b-2aee-4af8-90c2-b7aaf554aebd",
   "metadata": {},
   "source": [
    "# 1. RNN从零实现"
   ]
  },
  {
   "cell_type": "code",
   "execution_count": 1,
   "id": "45b63810-49ca-4f7c-bed8-2c60f2310138",
   "metadata": {},
   "outputs": [
    {
     "name": "stdout",
     "output_type": "stream",
     "text": [
      "Using matplotlib backend: <object object at 0x7f6f68c0f2e0>\n"
     ]
    }
   ],
   "source": [
    "%matplotlib\n",
    "import math\n",
    "import torch\n",
    "from torch import nn\n",
    "from torch.nn import functional as F\n",
    "from d2l import torch as d2l\n"
   ]
  },
  {
   "cell_type": "code",
   "execution_count": 2,
   "id": "2d4c4b57-293c-4636-99d9-f415780d2e78",
   "metadata": {},
   "outputs": [],
   "source": [
    "batch_size, num_steps = 32, 35\n",
    "train_iter, vocab = d2l.load_data_time_machine(batch_size, num_steps)"
   ]
  },
  {
   "cell_type": "markdown",
   "id": "a592cdd7-31f8-46f8-93e4-4d68c188c72d",
   "metadata": {},
   "source": [
    "## 1. 独热编码-one hot\n",
    "简⾔之，将每个索引映射为相互不同的单位向量：假设词表中不同词元的数⽬为N（即len(vocab)），词元索引的范围为0到N − 1。如果词元的索引是整数i，那么我们将创建⼀个⻓度为N的全0向量，并将第i处的元素设置为1。此向量是原始词元的⼀个独热向量。"
   ]
  },
  {
   "cell_type": "code",
   "execution_count": 3,
   "id": "ac5ad9be-c70c-49c4-abdf-d5f1348881eb",
   "metadata": {},
   "outputs": [
    {
     "data": {
      "text/plain": [
       "tensor([[1, 0, 0, 0, 0, 0, 0, 0, 0, 0, 0, 0, 0, 0, 0, 0, 0, 0, 0, 0, 0, 0, 0, 0,\n",
       "         0, 0, 0, 0],\n",
       "        [0, 0, 1, 0, 0, 0, 0, 0, 0, 0, 0, 0, 0, 0, 0, 0, 0, 0, 0, 0, 0, 0, 0, 0,\n",
       "         0, 0, 0, 0]])"
      ]
     },
     "execution_count": 3,
     "metadata": {},
     "output_type": "execute_result"
    }
   ],
   "source": [
    "F.one_hot(torch.tensor([0, 2]), len(vocab))"
   ]
  },
  {
   "cell_type": "markdown",
   "id": "a933f46a-7033-4caa-a00e-ecee7b8a3c5f",
   "metadata": {},
   "source": [
    "我们每次采样的⼩批量数据形状是⼆维张量：（批量⼤⼩，时间步数）。one_hot函数将这样⼀个⼩批量数据转\n",
    "换成三维张量，张量的最后⼀个维度等于词表⼤⼩（len(vocab)）。我们经常转换输⼊的维度，以便获得形状\n",
    "为（时间步数，批量⼤⼩，词表⼤⼩）的输出。这将使我们能够更⽅便地通过最外层的维度，⼀步⼀步地更\n",
    "新⼩批量数据的隐状态。\n"
   ]
  },
  {
   "cell_type": "code",
   "execution_count": 4,
   "id": "b88666e4-7e1e-4fb1-893b-07202411265d",
   "metadata": {},
   "outputs": [
    {
     "data": {
      "text/plain": [
       "torch.Size([5, 2, 28])"
      ]
     },
     "execution_count": 4,
     "metadata": {},
     "output_type": "execute_result"
    }
   ],
   "source": [
    "X = torch.arange(10).reshape((2, 5))\n",
    "F.one_hot(X.T, 28).shape"
   ]
  },
  {
   "cell_type": "markdown",
   "id": "c94b72c8-15a2-40af-9208-24bd93b91ee2",
   "metadata": {},
   "source": [
    "## 2. 初始化模型参数\n",
    "接下来，我们初始化循环神经⽹络模型的模型参数。隐藏单元数num_hiddens是⼀个可调的超参数。当训练语⾔模型时，输⼊和输出来⾃相同的词表。因此，它们具有相同的维度，即词表的⼤⼩。\n"
   ]
  },
  {
   "cell_type": "code",
   "execution_count": 5,
   "id": "56c64077-f795-4852-8839-b148a63b187e",
   "metadata": {},
   "outputs": [],
   "source": [
    "def get_params(vocab_size, num_hiddens, device):\n",
    "    num_inputs = num_outputs = vocab_size\n",
    "    \n",
    "    def normal(shape):\n",
    "        return torch.randn(size=shape, device=device) * 0.01\n",
    "    # 隐藏层参数\n",
    "    W_xh = normal((num_inputs, num_hiddens))\n",
    "    W_hh = normal((num_hiddens, num_hiddens))\n",
    "    b_h = torch.zeros(num_hiddens, device=device)\n",
    "    # 输出层参数\n",
    "    W_hq = normal((num_hiddens, num_outputs))\n",
    "    b_q = torch.zeros(num_outputs, device=device)\n",
    "    # 附加梯度\n",
    "    params = [W_xh, W_hh, b_h, W_hq, b_q]\n",
    "    for param in params:\n",
    "        param.requires_grad_(True)\n",
    "    return params\n"
   ]
  },
  {
   "cell_type": "markdown",
   "id": "7e720229-0419-4a58-8be3-7a34d1c05a73",
   "metadata": {},
   "source": [
    "## 3. RNN模型\n",
    "为了定义循环神经⽹络模型，我们⾸先需要⼀个init_rnn_state函数在初始化时返回隐状态。这个函数的返回是⼀个张量，张量全⽤0填充，形状为（批量⼤⼩，隐藏单元数）。"
   ]
  },
  {
   "cell_type": "code",
   "execution_count": 6,
   "id": "7a168989-45d9-4aa1-b47d-431ea6c744f4",
   "metadata": {},
   "outputs": [],
   "source": [
    "def init_rnn_state(batch_size, num_hiddens, device):\n",
    "    return (torch.zeros((batch_size, num_hiddens), device=device), )"
   ]
  },
  {
   "cell_type": "markdown",
   "id": "41024138-8321-4de6-acc3-cb9f9a379f29",
   "metadata": {},
   "source": [
    "下⾯的rnn函数定义了如何在⼀个时间步内计算隐状态和输出。循环神经⽹络模型通过inputs最外层的维度实现循环，以便逐时间步更新⼩批量数据的隐状态H。此外，这⾥使⽤tanh函数作为激活函数。如 之前所述，当元素在实数上满⾜均匀分布时，tanh函数的平均值为0。\n"
   ]
  },
  {
   "cell_type": "code",
   "execution_count": 7,
   "id": "58c8f170-0e4f-4c41-b088-7da1ef07f671",
   "metadata": {
    "tags": []
   },
   "outputs": [],
   "source": [
    "def rnn(inputs, state, params):\n",
    "    # inputs的形状：(时间步数量，批量⼤⼩，词表⼤⼩)\n",
    "    W_xh, W_hh, b_h, W_hq, b_q = params\n",
    "    H, = state\n",
    "    outputs = []\n",
    "    # X的形状：(批量⼤⼩，词表⼤⼩)\n",
    "    for X in inputs:\n",
    "        H = torch.tanh(torch.mm(X, W_xh) + torch.mm(H, W_hh) + b_h)\n",
    "        Y = torch.mm(H, W_hq) + b_q\n",
    "        outputs.append(Y)\n",
    "    return torch.cat(outputs, dim=0), (H,)\n"
   ]
  },
  {
   "cell_type": "code",
   "execution_count": 8,
   "id": "4f284a06-42d9-4090-946a-6979008b576b",
   "metadata": {},
   "outputs": [],
   "source": [
    "class RNNModelScratch: #@save\n",
    "    \"\"\"从零开始实现的循环神经⽹络模型\"\"\"\n",
    "    def __init__(self, vocab_size, num_hiddens, device,\n",
    "        get_params, init_state, forward_fn):\n",
    "        self.vocab_size, self.num_hiddens = vocab_size, num_hiddens\n",
    "        self.params = get_params(vocab_size, num_hiddens, device)\n",
    "        self.init_state, self.forward_fn = init_state, forward_fn\n",
    "    def __call__(self, X, state):\n",
    "        X = F.one_hot(X.T, self.vocab_size).type(torch.float32)\n",
    "        return self.forward_fn(X, state, self.params)\n",
    "    def begin_state(self, batch_size, device):\n",
    "        return self.init_state(batch_size, self.num_hiddens, device)\n"
   ]
  },
  {
   "cell_type": "code",
   "execution_count": 9,
   "id": "fcbe088d-2d57-47fb-8ab7-2fa848b0e867",
   "metadata": {},
   "outputs": [
    {
     "data": {
      "text/plain": [
       "(torch.Size([10, 28]), 1, torch.Size([2, 512]))"
      ]
     },
     "execution_count": 9,
     "metadata": {},
     "output_type": "execute_result"
    }
   ],
   "source": [
    "num_hiddens = 512\n",
    "net = RNNModelScratch(len(vocab), num_hiddens, d2l.try_gpu(), get_params,\n",
    "                        init_rnn_state, rnn)\n",
    "state = net.begin_state(X.shape[0], d2l.try_gpu())\n",
    "Y, new_state = net(X.to(d2l.try_gpu()), state)\n",
    "Y.shape, len(new_state), new_state[0].shape"
   ]
  },
  {
   "cell_type": "markdown",
   "id": "92564e97-a6e3-4804-b346-70b538c12f76",
   "metadata": {},
   "source": [
    "## 4. 预测\n",
    "让我们⾸先定义预测函数来⽣成prefix之后的新字符，其中的prefix是⼀个⽤⼾提供的包含多个字符的字符\n",
    "串。在循环遍历prefix中的开始字符时，我们不断地将隐状态传递到下⼀个时间步，但是不⽣成任何输出。这\n",
    "被称为预热（warm-up）期，因为在此期间模型会⾃我更新（例如，更新隐状态），但不会进⾏预测。预热期\n",
    "结束后，隐状态的值通常⽐刚开始的初始值更适合预测，从⽽预测字符并输出它们。"
   ]
  },
  {
   "cell_type": "code",
   "execution_count": 10,
   "id": "b6352150-fa45-48cc-845d-61160b9108f8",
   "metadata": {},
   "outputs": [],
   "source": [
    "def predict_ch8(prefix, num_preds, net, vocab, device): #@save\n",
    "    \"\"\"在prefix后⾯⽣成新字符\"\"\"\n",
    "    state = net.begin_state(batch_size=1, device=device)\n",
    "    outputs = [vocab[prefix[0]]]\n",
    "    get_input = lambda: torch.tensor([outputs[-1]], device=device).reshape((1, 1))\n",
    "    for y in prefix[1:]: # 预热期\n",
    "        _, state = net(get_input(), state)\n",
    "        outputs.append(vocab[y])\n",
    "    for _ in range(num_preds): # 预测num_preds步\n",
    "        y, state = net(get_input(), state)\n",
    "        outputs.append(int(y.argmax(dim=1).reshape(1)))\n",
    "    return ''.join([vocab.idx_to_token[i] for i in outputs])"
   ]
  },
  {
   "cell_type": "code",
   "execution_count": 11,
   "id": "97cacc1d-cf2d-40c9-8a59-68b693267243",
   "metadata": {},
   "outputs": [
    {
     "data": {
      "text/plain": [
       "'time traveller irbwndsngq'"
      ]
     },
     "execution_count": 11,
     "metadata": {},
     "output_type": "execute_result"
    }
   ],
   "source": [
    "predict_ch8('time traveller ', 10, net, vocab, d2l.try_gpu())"
   ]
  },
  {
   "cell_type": "markdown",
   "id": "1662006d-dbda-4149-bebc-328e964af14a",
   "metadata": {},
   "source": [
    "鉴于我们还没有训练⽹络，它会⽣成荒谬的预测结果。\n"
   ]
  },
  {
   "cell_type": "markdown",
   "id": "5e8d293f-f932-4c92-ae84-91b80b5a65ee",
   "metadata": {},
   "source": [
    "## 5. 梯度裁剪\n",
    "对于⻓度为T的序列，我们在迭代中计算这T个时间步上的梯度，将会在反向传播过程中产⽣⻓度为O(T)的矩阵乘法链。如之前所述，当T较⼤时，它可能导致数值不稳定，例如可能导致梯度爆炸或梯度消失。因此，循环神经⽹络模型往往需要额外的⽅式来⽀持稳定训练。"
   ]
  },
  {
   "cell_type": "code",
   "execution_count": 12,
   "id": "cc63c406-ee07-427e-91fb-479d38ba50bb",
   "metadata": {},
   "outputs": [],
   "source": [
    "def grad_clipping(net, theta): #@save\n",
    "    \"\"\"裁剪梯度\"\"\"\n",
    "    if isinstance(net, nn.Module):\n",
    "        params = [p for p in net.parameters() if p.requires_grad]\n",
    "    else:\n",
    "        params = net.params\n",
    "    norm = torch.sqrt(sum(torch.sum((p.grad ** 2)) for p in params))\n",
    "    if norm > theta:\n",
    "        for param in params:\n",
    "            param.grad[:] *= theta / norm"
   ]
  },
  {
   "cell_type": "markdown",
   "id": "6e866ec1-0797-4978-b4c5-015fe0c55032",
   "metadata": {},
   "source": [
    "## 6. 训练\n",
    "在训练模型之前，让我们定义⼀个函数在⼀个迭代周期内训练模型。它与我们之前训练模型的⽅式有三个不同之处。\n",
    "+ 1. 序列数据的不同采样⽅法（随机采样和顺序分区）将导致隐状态初始化的差异。\n",
    "+ 2. 我们在更新模型参数之前裁剪梯度。这样的操作的⽬的是，即使训练过程中某个点上发⽣了梯度爆炸，也能保证模型不会发散。\n",
    "+ 3. 我们⽤困惑度来评价模型。如前面所述，这样的度量确保了不同⻓度的序列具有可⽐性。\n",
    "\n",
    "具体来说，当使⽤顺序分区时，我们只在每个迭代周期的开始位置初始化隐状态。由于下⼀个⼩批量数据中的第i个⼦序列样本与当前第i个⼦序列样本相邻，因此当前⼩批量数据最后⼀个样本的隐状态，将⽤于初始化下⼀个⼩批量数据第⼀个样本的隐状态。这样，存储在隐状态中的序列的历史信息可以在⼀个迭代周期内流经相邻的⼦序列。然⽽，在任何⼀点隐状态的计算，都依赖于同⼀迭代周期中前⾯所有的⼩批量数据，这使得梯度计算变得复杂。为了降低计算量，在处理"
   ]
  },
  {
   "cell_type": "code",
   "execution_count": 13,
   "id": "a9adca90-2040-47a1-943d-f313b7cd1936",
   "metadata": {},
   "outputs": [],
   "source": [
    "#@save\n",
    "def train_epoch_ch8(net, train_iter, loss, updater, device, use_random_iter):\n",
    "    \"\"\"训练⽹络⼀个迭代周期（定义⻅第8章）\"\"\"\n",
    "    state, timer = None, d2l.Timer()\n",
    "    metric = d2l.Accumulator(2) # 训练损失之和,词元数量\n",
    "    for X, Y in train_iter:\n",
    "        if state is None or use_random_iter:\n",
    "            # 在第⼀次迭代或使⽤随机抽样时初始化state\n",
    "            state = net.begin_state(batch_size=X.shape[0], device=device)\n",
    "        else:\n",
    "            if isinstance(net, nn.Module) and not isinstance(state, tuple):\n",
    "                # state对于nn.GRU是个张量\n",
    "                state.detach_()\n",
    "            else:\n",
    "                # state对于nn.LSTM或对于我们从零开始实现的模型是个张量\n",
    "                for s in state:\n",
    "                    s.detach_()\n",
    "        y = Y.T.reshape(-1)\n",
    "        X, y = X.to(device), y.to(device)\n",
    "        y_hat, state = net(X, state)\n",
    "        l = loss(y_hat, y.long()).mean()\n",
    "        if isinstance(updater, torch.optim.Optimizer):\n",
    "            updater.zero_grad()\n",
    "            l.backward()\n",
    "            grad_clipping(net, 1)\n",
    "            updater.step()\n",
    "        else:\n",
    "            l.backward()\n",
    "            grad_clipping(net, 1)\n",
    "            # 因为已经调⽤了mean函数\n",
    "            updater(batch_size=1)\n",
    "        metric.add(l * y.numel(), y.numel())\n",
    "    return math.exp(metric[0] / metric[1]), metric[1] / timer.stop()\n"
   ]
  },
  {
   "cell_type": "code",
   "execution_count": 14,
   "id": "12030f24-ee49-410c-8a6c-5a0decc95e62",
   "metadata": {},
   "outputs": [],
   "source": [
    "#@save\n",
    "def train_ch8(net, train_iter, vocab, lr, num_epochs, device,\n",
    "                use_random_iter=False):\n",
    "    \"\"\"训练模型（定义⻅第8章）\"\"\"\n",
    "    loss = nn.CrossEntropyLoss()\n",
    "    animator = d2l.Animator(xlabel='epoch', ylabel='perplexity',\n",
    "                legend=['train'], xlim=[10, num_epochs])\n",
    "    # 初始化\n",
    "    if isinstance(net, nn.Module):\n",
    "        updater = torch.optim.SGD(net.parameters(), lr)\n",
    "    else:\n",
    "        updater = lambda batch_size: d2l.sgd(net.params, lr, batch_size)\n",
    "    predict = lambda prefix: predict_ch8(prefix, 50, net, vocab, device)\n",
    "    # 训练和预测\n",
    "    for epoch in range(num_epochs):\n",
    "        ppl, speed = train_epoch_ch8(\n",
    "                        net, train_iter, loss, updater, device, use_random_iter)\n",
    "        if (epoch + 1) % 10 == 0:\n",
    "            print(predict('time traveller'))\n",
    "            animator.add(epoch + 1, [ppl])\n",
    "    print(f'困惑度 {ppl:.1f}, {speed:.1f} 词元/秒 {str(device)}')\n",
    "    print(predict('time traveller'))\n",
    "    print(predict('traveller'))\n"
   ]
  },
  {
   "cell_type": "code",
   "execution_count": 15,
   "id": "53237a64-60b9-46c3-97cf-af63c40c0eb9",
   "metadata": {},
   "outputs": [
    {
     "name": "stdout",
     "output_type": "stream",
     "text": [
      "困惑度 1.0, 17752.1 词元/秒 cpu\n",
      "time travelleryou can show black is white by argument said filby\n",
      "traveller with a slight accession ofcheerfulness really thi\n"
     ]
    }
   ],
   "source": [
    "num_epochs, lr= 500, 1\n",
    "train_ch8(net, train_iter, vocab, lr, num_epochs, d2l.try_gpu())"
   ]
  },
  {
   "cell_type": "code",
   "execution_count": 16,
   "id": "f5549dc8-c504-4867-ab91-7a97d5aac53c",
   "metadata": {},
   "outputs": [
    {
     "name": "stdout",
     "output_type": "stream",
     "text": [
      "困惑度 1.5, 21117.8 词元/秒 cpu\n",
      "time traveller held in his hind why caunot engott rowe thing he \n",
      "travellerit s against reason said filbywan argementas thes \n"
     ]
    }
   ],
   "source": [
    "net = RNNModelScratch(len(vocab), num_hiddens, d2l.try_gpu(), get_params,\n",
    "                     init_rnn_state, rnn)\n",
    "train_ch8(net, train_iter, vocab, lr, num_epochs, d2l.try_gpu(),\n",
    "         use_random_iter=True)"
   ]
  },
  {
   "cell_type": "markdown",
   "id": "ad7edf40-3c65-4667-bcbd-ca00d7adc83f",
   "metadata": {},
   "source": [
    "## 总结\n",
    "+ 我们可以训练⼀个基于循环神经⽹络的字符级语⾔模型，根据⽤⼾提供的⽂本的前缀⽣成后续⽂本。\n",
    "+ ⼀个简单的循环神经⽹络语⾔模型包括输⼊编码、循环神经⽹络模型和输出⽣成。\n",
    "+ 循环神经⽹络模型在训练以前需要初始化状态，不过随机抽样和顺序划分使⽤初始化⽅法不同。\n",
    "+ 当使⽤顺序划分时，我们需要分离梯度以减少计算量。\n",
    "+ 在进⾏任何预测之前，模型通过预热期进⾏⾃我更新（例如，获得⽐初始值更好的隐状态）。\n",
    "+ 梯度裁剪可以防⽌梯度爆炸，但不能应对梯度消失。"
   ]
  },
  {
   "cell_type": "markdown",
   "id": "7a216854-5b08-4611-8564-d456fe571575",
   "metadata": {},
   "source": [
    "# 2. 简介实现\n"
   ]
  },
  {
   "cell_type": "code",
   "execution_count": 17,
   "id": "2929433c-694c-4b4d-b5e9-b15a5dcc8299",
   "metadata": {},
   "outputs": [],
   "source": [
    "import torch \n",
    "from torch import nn\n",
    "from torch.nn import functional as F\n",
    "from d2l import torch as d2l\n",
    "\n",
    "batch_size, num_steps = 32, 35\n",
    "train_iter, vocab = d2l.load_data_time_machine(batch_size, num_steps)"
   ]
  },
  {
   "cell_type": "markdown",
   "id": "3ef03d54-be48-472e-a93a-9d797a73507a",
   "metadata": {},
   "source": [
    "## 1. 定义模型\n",
    "我们构造⼀个具有256个隐藏单元的单隐藏层的循环神经⽹络\n",
    "层rnn_layer。"
   ]
  },
  {
   "cell_type": "code",
   "execution_count": 18,
   "id": "cc6aa757-7ba5-427f-b474-7eec576784d9",
   "metadata": {},
   "outputs": [],
   "source": [
    "num_hiddens = 256\n",
    "rnn_layer = nn.RNN(len(vocab), num_hiddens)"
   ]
  },
  {
   "cell_type": "markdown",
   "id": "94c198b3-6dc7-4e30-9f0e-e123f80ae176",
   "metadata": {},
   "source": [
    "我们使⽤张量来初始化隐状态，它的形状是（隐藏层数，批量⼤⼩，隐藏单元数）。\n"
   ]
  },
  {
   "cell_type": "code",
   "execution_count": 19,
   "id": "f99450c9-0118-4277-addd-79e3de0858b0",
   "metadata": {},
   "outputs": [
    {
     "data": {
      "text/plain": [
       "torch.Size([1, 32, 256])"
      ]
     },
     "execution_count": 19,
     "metadata": {},
     "output_type": "execute_result"
    }
   ],
   "source": [
    "state = torch.zeros((1, batch_size, num_hiddens))\n",
    "state.shape"
   ]
  },
  {
   "cell_type": "markdown",
   "id": "d03a0eb6-72a7-4a9a-8fcf-1f71b119e8e5",
   "metadata": {},
   "source": [
    "通过⼀个隐状态和⼀个输⼊，我们就可以⽤更新后的隐状态计算输出。需要强调的是，rnn_layer的“输出”（Y）\n",
    "不涉及输出层的计算：它是指每个时间步的隐状态，这些隐状态可以⽤作后续输出层的输⼊。"
   ]
  },
  {
   "cell_type": "code",
   "execution_count": 20,
   "id": "1071796b-5b82-47f0-ae1d-bc63e5d08d5a",
   "metadata": {},
   "outputs": [
    {
     "data": {
      "text/plain": [
       "(torch.Size([35, 32, 256]), torch.Size([1, 32, 256]))"
      ]
     },
     "execution_count": 20,
     "metadata": {},
     "output_type": "execute_result"
    }
   ],
   "source": [
    "X = torch.rand(size=(num_steps, batch_size, len(vocab)))\n",
    "Y, state_new = rnn_layer(X, state)\n",
    "Y.shape, state_new.shape"
   ]
  },
  {
   "cell_type": "code",
   "execution_count": 24,
   "id": "dcf3fd9c-35e5-45fd-9432-dbfe780da44f",
   "metadata": {},
   "outputs": [],
   "source": [
    "#@save\n",
    "class RNNModel(nn.Module):\n",
    "    \"\"\"循环神经⽹络模型\"\"\"\n",
    "    def __init__(self, rnn_layer, vocab_size, **kwargs):\n",
    "        super(RNNModel, self).__init__(**kwargs)\n",
    "        self.rnn = rnn_layer\n",
    "        self.vocab_size = vocab_size\n",
    "        self.num_hiddens = self.rnn.hidden_size\n",
    "        # 如果RNN是双向的（之后将介绍），num_directions应该是2，否则应该是1\n",
    "        if not self.rnn.bidirectional:\n",
    "            self.num_directions = 1\n",
    "            self.linear = nn.Linear(self.num_hiddens, self.vocab_size)\n",
    "        else:\n",
    "            self.num_directions = 2\n",
    "            self.linear = nn.Linear(self.num_hiddens * 2, self.vocab_size)\n",
    "    \n",
    "    def forward(self, inputs, state):\n",
    "        X = F.one_hot(inputs.T.long(), self.vocab_size)\n",
    "        X = X.to(torch.float32)\n",
    "        Y, state = self.rnn(X, state)\n",
    "        # 全连接层⾸先将Y的形状改为(时间步数*批量⼤⼩,隐藏单元数)\n",
    "        # 它的输出形状是(时间步数*批量⼤⼩,词表⼤⼩)。\n",
    "        output = self.linear(Y.reshape((-1, Y.shape[-1])))\n",
    "        return output, state\n",
    "    \n",
    "    def begin_state(self, device, batch_size=1):\n",
    "        if not isinstance(self.rnn, nn.LSTM):\n",
    "            # nn.GRU以张量作为隐状态\n",
    "            return torch.zeros((self.num_directions * self.rnn.num_layers,\n",
    "                        batch_size, self.num_hiddens),\n",
    "                        device=device)\n",
    "        else:\n",
    "            # nn.LSTM以元组作为隐状态\n",
    "            return (torch.zeros((\n",
    "                    self.num_directions * self.rnn.num_layers,\n",
    "                    batch_size, self.num_hiddens), device=device),\n",
    "                        torch.zeros((\n",
    "                            self.num_directions * self.rnn.num_layers,\n",
    "                            batch_size, self.num_hiddens), device=device))\n"
   ]
  },
  {
   "cell_type": "markdown",
   "id": "ae781ed2-50df-404e-bd56-6dd0d72c7fe7",
   "metadata": {},
   "source": [
    "## 2. 预测与训练"
   ]
  },
  {
   "cell_type": "code",
   "execution_count": 25,
   "id": "ad4be055-bf16-476a-8879-0af736ec286b",
   "metadata": {},
   "outputs": [
    {
     "data": {
      "text/plain": [
       "'time travellerswswswswsw'"
      ]
     },
     "execution_count": 25,
     "metadata": {},
     "output_type": "execute_result"
    }
   ],
   "source": [
    "device = d2l.try_gpu()\n",
    "net = RNNModel(rnn_layer, vocab_size=len(vocab))\n",
    "net = net.to(device)\n",
    "d2l.predict_ch8('time traveller', 10, net, vocab, device)"
   ]
  },
  {
   "cell_type": "code",
   "execution_count": 26,
   "id": "255909b8-eb30-4f8d-af38-6d3791a100fb",
   "metadata": {},
   "outputs": [
    {
     "name": "stdout",
     "output_type": "stream",
     "text": [
      "perplexity 1.3, 32935.8 tokens/sec on cpu\n",
      "time traveller for so it will spocinge that thes hould as ravely\n",
      "traveller amot far abal from thepresent moment our mental e\n"
     ]
    }
   ],
   "source": [
    "num_epochs, lr = 500, 1\n",
    "d2l.train_ch8(net, train_iter, vocab, lr, num_epochs, device)"
   ]
  },
  {
   "cell_type": "code",
   "execution_count": null,
   "id": "b8322375-c804-4f0d-8fc2-b1b3473da974",
   "metadata": {},
   "outputs": [],
   "source": []
  }
 ],
 "metadata": {
  "kernelspec": {
   "display_name": "env-d2l",
   "language": "python",
   "name": "d2l"
  },
  "language_info": {
   "codemirror_mode": {
    "name": "ipython",
    "version": 3
   },
   "file_extension": ".py",
   "mimetype": "text/x-python",
   "name": "python",
   "nbconvert_exporter": "python",
   "pygments_lexer": "ipython3",
   "version": "3.9.16"
  }
 },
 "nbformat": 4,
 "nbformat_minor": 5
}
