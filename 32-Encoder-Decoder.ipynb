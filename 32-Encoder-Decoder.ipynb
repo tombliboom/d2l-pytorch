{
 "cells": [
  {
   "cell_type": "markdown",
   "id": "0d9f48e7-dffb-44e8-91f3-7ada8ea3736b",
   "metadata": {},
   "source": [
    "# 编码器-解码器架构\n",
    "机器翻译是序列转换模型的⼀个核⼼问题，其输⼊和输出都是⻓度可变的序列。为了处理这种类型的输⼊和输出，我们可以设计⼀个包含两个主要组件的架构：第⼀个组件是⼀个编码器（encoder）：它接受⼀个⻓度可变的序列作为输⼊，并将其转换为具有固定形状的编码状态。第⼆个组件是解码器（decoder）：它将固定形状的编码状态映射到⻓度可变的序列。这被称为编码器-解码器（encoder-decoder）架构，"
   ]
  }
 ],
 "metadata": {
  "kernelspec": {
   "display_name": "env-d2l",
   "language": "python",
   "name": "d2l"
  },
  "language_info": {
   "codemirror_mode": {
    "name": "ipython",
    "version": 3
   },
   "file_extension": ".py",
   "mimetype": "text/x-python",
   "name": "python",
   "nbconvert_exporter": "python",
   "pygments_lexer": "ipython3",
   "version": "3.9.16"
  }
 },
 "nbformat": 4,
 "nbformat_minor": 5
}
